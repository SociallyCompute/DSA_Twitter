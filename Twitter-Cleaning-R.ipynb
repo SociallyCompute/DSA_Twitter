{
 "cells": [
  {
   "cell_type": "code",
   "execution_count": null,
   "metadata": {
    "collapsed": false
   },
   "outputs": [],
   "source": [
    "#import twitteR and stringr for API access and text manipulation\n",
    "library(twitteR)\n",
    "library(stringr)\n",
    "library(ggplot2)\n",
    "library(httr)\n",
    "library(rjson)\n",
    "library(tm)\n",
    "library(gridExtra)\n",
    "library(lubridate)\n",
    "library(SnowballC)\n",
    "\n"
   ]
  },
  {
   "cell_type": "code",
   "execution_count": null,
   "metadata": {
    "collapsed": false
   },
   "outputs": [],
   "source": [
    "#search twitter API for boolean string\n",
    "#search twitter for boolean phrase\n",
    "#setup_twitter_oauth(consumer_key, consumer_secret, access_token=NULL, access_secret=NULL)\n",
    "\n",
    "setup_twitter_oauth(\"zCYCpLFMIi3UXHr6lfxJAGxO3\", \"hy3ucjEwwSIyDs6JP84CIfchGI6fJAlS964a1qNCxTZUAmqz7J\",\n",
    "                    \"2756479056-YqYNKJbjcNwNxx8VKGq54maYYP0JnwcxJH2qUdo\", \"tyW0Qnh9mZ0csDO7KpAKpEC3tlp8Ui6n4ZB8MEhp9hAhr\")\n",
    "\n",
    "#Extract tweets from a single user at a time   \n",
    "\n",
    "clinton_tweets <- userTimeline(user = \"@HillaryClinton\",\n",
    "                               n = 200, includeRts = FALSE, retryOnRateLimit = 2000)\n",
    "trump_tweets <- userTimeline(user = \"@realDonaldTrump\",\n",
    "                             n = 200, includeRts = FALSE, retryOnRateLimit = 2000)  \n",
    "\n",
    "# clinton_tweets$text <- sapply(clinton_tweets$text,function(row) iconv(row, \"latin1\", \"ASCII\", sub=\"\"))\n",
    "# trump_tweets$text <- sapply(trump_tweets$text,function(row) iconv(row, \"latin1\", \"ASCII\", sub=\"\"))\n",
    "\n",
    "#Put the tweets downloaded into a data.frame\n",
    "clinton_tweets <- twListToDF(clinton_tweets)\n",
    "trump_tweets <- twListToDF(trump_tweets)\n",
    "\n",
    "Encoding(clinton_tweets$text) <- \"UTF-8\"\n",
    "Encoding(trump_tweets$text) <- \"UTF-8\"\n",
    "\n",
    "\n",
    "clinton_tweets$text <- sapply(clinton_tweets$text,function(row) iconv(row, \"latin1\", \"ASCII\", sub=\"\"))\n",
    "trump_tweets$text <- sapply(trump_tweets$text,function(row) iconv(row, \"latin1\", \"ASCII\", sub=\"\"))\n",
    "\n",
    "# The tweets are now easier to work with. \n",
    "# The next step is removing all the so-called “stopwords”(words that do not add meaning to the topic), \n",
    "# and convert the text into a Term Document Matrix. \n",
    "# The TDM is then summed up so we get a data.frame of words arranged by how often they are used:\n",
    "\n"
   ]
  },
  {
   "cell_type": "code",
   "execution_count": null,
   "metadata": {
    "collapsed": true
   },
   "outputs": [],
   "source": [
    "textScrubber <- function(dataframe) {\n",
    "    \n",
    "  dataframe$text <-  gsub(\"http\\\\w+\", \"\", dataframe$text)\n",
    "  dataframe$text <-  tolower(dataframe$text)\n",
    "  \n",
    "  return(dataframe)\n",
    "}"
   ]
  },
  {
   "cell_type": "code",
   "execution_count": null,
   "metadata": {
    "collapsed": true
   },
   "outputs": [],
   "source": [
    "## Scrub for http and lowercase\n",
    "clinton_tweets <- textScrubber(clinton_tweets)\n",
    "trump_tweets <- textScrubber(trump_tweets)"
   ]
  },
  {
   "cell_type": "code",
   "execution_count": null,
   "metadata": {
    "collapsed": false
   },
   "outputs": [],
   "source": [
    "head(clinton_tweets)"
   ]
  },
  {
   "cell_type": "code",
   "execution_count": null,
   "metadata": {
    "collapsed": false
   },
   "outputs": [],
   "source": [
    "head(trump_tweets)"
   ]
  },
  {
   "cell_type": "markdown",
   "metadata": {},
   "source": [
    "### YOUR TURN\n",
    "1. Get rid of all the text related to URLs\n",
    "2. Clean up any other anomolies you notice"
   ]
  },
  {
   "cell_type": "code",
   "execution_count": null,
   "metadata": {
    "collapsed": true
   },
   "outputs": [],
   "source": [
    "\n",
    "tdmCreator <- function(dataframe, stemDoc = T, rmStopwords = T){\n",
    "  \n",
    "  tdm <- Corpus(VectorSource(dataframe$text))\n",
    "  if (isTRUE(rmStopwords)) {\n",
    "    tdm <- tm_map(tdm, removeWords, stopwords())\n",
    "  }\n",
    "  if (isTRUE(stemDoc)) {\n",
    "    tdm <- tm_map(tdm, stemDocument)\n",
    "  }\n",
    "  tdm <- TermDocumentMatrix(tdm,\n",
    "                            control = list(wordLengths = c(4, Inf)))\n",
    "  tdm <- rowSums(as.matrix(tdm))\n",
    "  tdm <- sort(tdm, decreasing = T)\n",
    "  df <- data.frame(term = names(tdm), freq = tdm)\n",
    "  return(df)\n",
    "}\n",
    "\n",
    "\n",
    "\n",
    "\n",
    "\n"
   ]
  },
  {
   "cell_type": "code",
   "execution_count": null,
   "metadata": {
    "collapsed": true
   },
   "outputs": [],
   "source": [
    "\n",
    "clinton_tweets <- tdmCreator(clinton_tweets)\n",
    "trump_tweets <- tdmCreator(trump_tweets)\n",
    "\n",
    "\n",
    "\n",
    "#Selects the 15 most used words.\n",
    "trump_tweets <- trump_tweets[1:15,]\n",
    "clinton_tweets <- clinton_tweets[1:15,]\n",
    "\n",
    "\n"
   ]
  },
  {
   "cell_type": "code",
   "execution_count": null,
   "metadata": {
    "collapsed": true
   },
   "outputs": [],
   "source": [
    "\n",
    "#Create bar graph with appropriate colours\n",
    "#and use coord_flip() to help the labels look nicer.\n",
    "trump_plot <- ggplot(trump_tweets, aes(x = reorder(term, freq), y = freq)) +\n",
    "  geom_bar(stat = \"identity\", fill = \"red\") +\n",
    "  xlab(\"Most Used\") + ylab(\"How Often\") +\n",
    "  coord_flip() + theme(text=element_text(size=10,face=\"bold\"))\n",
    "\n",
    "clinton_plot <- ggplot(clinton_tweets, aes(x = reorder(term, freq), y = freq)) +\n",
    "  geom_bar(stat = \"identity\", fill = \"blue\") +\n",
    "  xlab(\"Most Used\") + ylab(\"How Often\") +\n",
    "  coord_flip() + theme(text=element_text(size=10,face=\"bold\"))"
   ]
  },
  {
   "cell_type": "code",
   "execution_count": null,
   "metadata": {
    "collapsed": false
   },
   "outputs": [],
   "source": [
    "#There are other ways to get these plots\n",
    "#side-by-side, but this is easy.\n",
    "grid.arrange(trump_plot, clinton_plot, ncol=2)"
   ]
  },
  {
   "cell_type": "code",
   "execution_count": null,
   "metadata": {
    "collapsed": true
   },
   "outputs": [],
   "source": []
  }
 ],
 "metadata": {
  "kernelspec": {
   "display_name": "R",
   "language": "R",
   "name": "ir"
  },
  "language_info": {
   "codemirror_mode": "r",
   "file_extension": ".r",
   "mimetype": "text/x-r-source",
   "name": "R",
   "pygments_lexer": "r",
   "version": "3.3.2"
  }
 },
 "nbformat": 4,
 "nbformat_minor": 2
}
