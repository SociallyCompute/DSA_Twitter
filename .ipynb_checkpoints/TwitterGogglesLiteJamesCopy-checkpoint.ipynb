{
 "cells": [
  {
   "cell_type": "markdown",
   "metadata": {},
   "source": [
    "# Twitter Goggles Lite\n",
    "\n",
    "Query the the Twitter Search API and return a structured table of results."
   ]
  },
  {
   "cell_type": "code",
   "execution_count": null,
   "metadata": {
    "collapsed": true
   },
   "outputs": [],
   "source": [
    "import numpy as np \n",
    "import pandas as pd\n",
    "\n",
    "import argparse, collections, configparser, io, json, math, mysql.connector as sql, os, requests, sys, time\n",
    "from datetime import datetime\n",
    "from mysql.connector import errorcode\n",
    "from requests import HTTPError\n",
    "from requests import ConnectionError\n",
    "from requests_oauthlib import OAuth1"
   ]
  },
  {
   "cell_type": "markdown",
   "metadata": {},
   "source": [
    "The following script queries Twitter for tweets containing the name of 50 US cities in the body of the text as well as tweets withing a 40 km radius of that city. The 50 cities are listed within the `description` column of the `jobs.csv` file below and the query request are in the `query` column. "
   ]
  },
  {
   "cell_type": "code",
   "execution_count": null,
   "metadata": {
    "collapsed": false
   },
   "outputs": [],
   "source": [
    "job = pd.read_csv('data/job.csv')\n",
    "job.head()"
   ]
  },
  {
   "cell_type": "markdown",
   "metadata": {},
   "source": [
    "In order to use the Search API, Twitter requires you to have authetication. Be sure to fill in the variables below with your Twitter creds, then run the cell."
   ]
  },
  {
   "cell_type": "code",
   "execution_count": null,
   "metadata": {
    "collapsed": true
   },
   "outputs": [],
   "source": [
    "consumer_key = 'H0pa8ePaLE9ZjRJp0BfFi5JVt'\n",
    "consumer_secret = 'u2w1U1JccIrd5Zhy8O9ALPgdt1Z3xPyD3kJP8E8Q2AGde0jXpv'\n",
    "access_token = '2882452026-qkvdVWqbNwJYktehDXlcensgRK6lZJG6cyWMPXm'\n",
    "access_token_secret = '2V8jupOOtRYoNIkRLNewxc06vAuStj2ZcWAKa3fsZZUBw'\n",
    "\n",
    "\n",
    "oauth = OAuth1(client_key=consumer_key,\n",
    "    client_secret=consumer_secret,\n",
    "    resource_owner_key=access_token,\n",
    "    resource_owner_secret=access_token_secret)"
   ]
  },
  {
   "cell_type": "markdown",
   "metadata": {},
   "source": [
    "To make a request to Twitter, we define a function that queries Twitter and returns a json object that we will then parse into dictionaries for the attributes that we are interested in."
   ]
  },
  {
   "cell_type": "code",
   "execution_count": null,
   "metadata": {
    "collapsed": false
   },
   "outputs": [],
   "source": [
    "def search(query, oauth) :\n",
    "    print(\"Query: \" + query)\n",
    "    \n",
    "    attempt = 1\n",
    "    while attempt <= 3 :\n",
    "        try :\n",
    "            r = requests.get(\"https://api.twitter.com/1.1/search/tweets.json?\" + query, auth=oauth)\n",
    "            return json.loads(r.text)\n",
    "        \n",
    "        except (ConnectionError, HTTPError) as err :\n",
    "            sleep_time = 2**(attempt - 1)\n",
    "            print(\"Connection attempt \" + str(attempt) + \" failed. \"\n",
    "                \"Sleeping for \" + str(sleep_time) + \" second(s).\")\n",
    "            time.sleep(sleep_time)\n",
    "            attempt = attempt + 1\n",
    "    \n",
    "    print(\"***** Error: Unable to query Twitter. Terminating.\")"
   ]
  },
  {
   "cell_type": "markdown",
   "metadata": {},
   "source": [
    "The function below just ensures that our query begins with \"q=\" as this is the format twitter requires. All of the jobs in the job table already have a \"q=\" but this acts as just a fail-safe. "
   ]
  },
  {
   "cell_type": "code",
   "execution_count": null,
   "metadata": {
    "collapsed": false
   },
   "outputs": [],
   "source": [
    "def getFullQuery(query) :\n",
    "    if (not query.startswith(\"q=\")) :\n",
    "        query = \"q=\" + query\n",
    "    return query"
   ]
  },
  {
   "cell_type": "markdown",
   "metadata": {},
   "source": [
    "And now we structure our data! "
   ]
  },
  {
   "cell_type": "code",
   "execution_count": null,
   "metadata": {
    "collapsed": false
   },
   "outputs": [],
   "source": [
    "def structureTweetTable(tweet, job):\n",
    "   \n",
    "    list_o_dicts = []\n",
    "    \n",
    "    for i in tweet['statuses']:\n",
    "        d = {}\n",
    "        d['tweet_id_str'] =  i[\"id_str\"] \n",
    "        d['job_id'] = job\n",
    "        d['created_at'] = datetime.strptime(i[\"created_at\"], '%a %b %d %H:%M:%S +0000 %Y').strftime('%Y-%m-%d %H:%M:%S')\n",
    "        d['text'] = i[\"text\"]\n",
    "        d['from_user'] = i[\"user\"][\"id\"]\n",
    "        d['from_user_id_str'] = i[\"user\"][\"id_str\"]\n",
    "        d['from_user_name']  = i[\"user\"][\"screen_name\"]\n",
    "        d['from_user_fullname'] = i[\"user\"][\"name\"]\n",
    "        d['from_user_created_at'] = datetime.strptime(i[\"user\"][\"created_at\"], '%a %b %d %H:%M:%S +0000 %Y').strftime('%Y-%m-%d %H:%M:%S')\n",
    "        d['from_user_followers'] = i[\"user\"][\"followers_count\"]\n",
    "        d['from_user_following'] = i[\"user\"][\"friends_count\"]\n",
    "        d['from_user_favorites'] = i[\"user\"][\"favourites_count\"]\n",
    "        d['from_user_tweets'] = i[\"user\"][\"statuses_count\"]\n",
    "        d['from_user_timezone'] = i[\"user\"][\"time_zone\"]\n",
    "        d['to_user'] = i[\"in_reply_to_user_id\"]\n",
    "        d['to_user_id_str'] = i[\"in_reply_to_user_id_str\"]\n",
    "        d['to_user_name'] = i[\"in_reply_to_screen_name\"]\n",
    "        d['source'] = i[\"source\"]\n",
    "        d['iso_language'] = i[\"metadata\"][\"iso_language_code\"]\n",
    "        if i['geo'] is not None and i['geo']['type'] == \"Point\" :\n",
    "            d['location_geo'] = 'Point({},{})'.format(i['geo'][\"coordinates\"][0],i['geo'][\"coordinates\"][1])\n",
    "            d['location_geo_0'] = '{}'.format(i['geo'][\"coordinates\"][0])\n",
    "            d['location_geo_1'] = '{}'.format(i['geo'][\"coordinates\"][1])\n",
    "        \n",
    "        list_o_dicts.append(d)\n",
    "\n",
    "    return list_o_dicts\n",
    "        "
   ]
  },
  {
   "cell_type": "markdown",
   "metadata": {},
   "source": [
    "And now we put it all together and collect tweets from each job once. Each job run becomes a data frame that will then be appended to the list object `frames`."
   ]
  },
  {
   "cell_type": "code",
   "execution_count": null,
   "metadata": {
    "collapsed": false
   },
   "outputs": [],
   "source": [
    "frames = []\n",
    "for index, row in job.iterrows():\n",
    "    \n",
    "    job_id = row['job_id']\n",
    "\n",
    "    q = getFullQuery(row['query'])\n",
    "    results = search(q,oauth)\n",
    "    try:\n",
    "        f = pd.DataFrame(structureTweetTable(results,job_id))\n",
    "        frames.append(f)\n",
    "    except:\n",
    "        print(\"   no results returned for '{}'\".format(row['query']))\n",
    "        pass\n",
    "\n",
    "    "
   ]
  },
  {
   "cell_type": "code",
   "execution_count": null,
   "metadata": {
    "collapsed": false,
    "scrolled": true
   },
   "outputs": [],
   "source": [
    "frame = pd.concat(frames)"
   ]
  },
  {
   "cell_type": "markdown",
   "metadata": {},
   "source": [
    "### Hashtag Example"
   ]
  },
  {
   "cell_type": "code",
   "execution_count": null,
   "metadata": {
    "collapsed": false
   },
   "outputs": [],
   "source": [
    "# Your Code (create as many cells as you need)\n",
    "# --------------------------------------------\n",
    "alls = []\n",
    "for i, row in frame.iterrows():\n",
    "    stuff = {tag.strip(\"#\") for tag in row['text'].split() if tag.startswith(\"#\")}\n",
    "    if len(stuff) > 0:\n",
    "        tweets = [[i] * len(stuff)]\n",
    "        jobs = [[row['job_id']] * len(stuff)]\n",
    "        f = pd.DataFrame({'tweet_id' : tweets[0], 'hastag' : list(stuff), 'job_id': jobs[0]})\n",
    "        alls.append(f)\n",
    "    \n",
    "\n"
   ]
  },
  {
   "cell_type": "code",
   "execution_count": null,
   "metadata": {
    "collapsed": false
   },
   "outputs": [],
   "source": [
    "pd.concat(alls).reset_index().drop('index', axis = 1)"
   ]
  },
  {
   "cell_type": "code",
   "execution_count": null,
   "metadata": {
    "collapsed": false
   },
   "outputs": [],
   "source": [
    "frame"
   ]
  },
  {
   "cell_type": "code",
   "execution_count": null,
   "metadata": {
    "collapsed": true
   },
   "outputs": [],
   "source": []
  }
 ],
 "metadata": {
  "kernelspec": {
   "display_name": "Python 3",
   "language": "python",
   "name": "python3"
  },
  "language_info": {
   "codemirror_mode": {
    "name": "ipython",
    "version": 3
   },
   "file_extension": ".py",
   "mimetype": "text/x-python",
   "name": "python",
   "nbconvert_exporter": "python",
   "pygments_lexer": "ipython3",
   "version": "3.4.5"
  }
 },
 "nbformat": 4,
 "nbformat_minor": 0
}
